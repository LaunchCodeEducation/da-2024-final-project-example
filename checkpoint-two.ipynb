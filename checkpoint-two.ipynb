{
    "cells": [
        {
            "attachments": {},
            "cell_type": "markdown",
            "metadata": {
                "azdata_cell_guid": "151601c9-ca7a-412e-af80-c62a87e0837e"
            },
            "source": [
                "# Checkpoint Two: Exploratory Data Analysis\n",
                "\n",
                "Now that your chosen dataset is approved, it is time to start working on your analysis. Use this notebook to perform your EDA and make notes where directed to as you work.\n",
                "\n",
                "## Getting Started\n",
                "\n",
                "Since we have not provided your dataset for you, you will need to load the necessary files in this repository. Make sure to include a link back to the original dataset here as well.\n",
                "\n",
                "My dataset: https://catalog.data.gov/dataset/alzheimers-disease-and-healthy-aging-data\n",
                "\n",
                "Your first task in EDA is to import necessary libraries and create a dataframe(s). Make note in the form of code comments of what your thought process is as you work on this setup task."
            ]
        },
        {
            "cell_type": "code",
            "execution_count": 2,
            "metadata": {
                "azdata_cell_guid": "7b503e37-6df5-4433-acfb-678b1346db14"
            },
            "outputs": [
                {
                    "data": {
                        "text/plain": [
                            "Index(['RowId', 'YearStart', 'YearEnd', 'LocationAbbr', 'LocationDesc',\n",
                            "       'Datasource', 'Class', 'Topic', 'Question', 'Data_Value_Unit',\n",
                            "       'DataValueTypeID', 'Data_Value_Type', 'Data_Value', 'Data_Value_Alt',\n",
                            "       'Data_Value_Footnote_Symbol', 'Data_Value_Footnote',\n",
                            "       'Low_Confidence_Limit', 'High_Confidence_Limit',\n",
                            "       'StratificationCategory1', 'Stratification1', 'StratificationCategory2',\n",
                            "       'Stratification2', 'Geolocation', 'ClassID', 'TopicID', 'QuestionID',\n",
                            "       'LocationID', 'StratificationCategoryID1', 'StratificationID1',\n",
                            "       'StratificationCategoryID2', 'StratificationID2'],\n",
                            "      dtype='object')"
                        ]
                    },
                    "execution_count": 2,
                    "metadata": {},
                    "output_type": "execute_result"
                }
            ],
            "source": [
                "# Pre-filtered the overall excel file down to the two questions I want to analyze from the survey data.\n",
                "# So the file I'm importing is already a filtered dataset from the main dataset.\n",
                "import pandas as pd\n",
                "import matplotlib.pyplot as plt\n",
                "import seaborn as sns\n",
                "import numpy as np\n",
                "\n",
                "df = pd.read_csv(\"./filtered-dataset.csv\")\n",
                "\n",
                "df.columns\n",
                "\n"
            ]
        },
        {
            "attachments": {},
            "cell_type": "markdown",
            "metadata": {
                "azdata_cell_guid": "129ce836-524b-4ea8-b394-a959f9308d6a"
            },
            "source": [
                "## Get to Know the Numbers\n",
                "\n",
                "Now that you have everything setup, put any code that you use to get to know the dataframe and its rows and columns better in the cell below. You can use whatever techniques you like, except for visualizations. You will put those in a separate section.\n",
                "\n",
                "When working on your code, make sure to leave comments so that your mentors can understand your thought process."
            ]
        },
        {
            "cell_type": "code",
            "execution_count": 3,
            "metadata": {
                "azdata_cell_guid": "0ca2d318-f6e8-43ef-a33e-5304d24d928d",
                "tags": []
            },
            "outputs": [
                {
                    "data": {
                        "text/plain": [
                            "RowId                            0\n",
                            "YearStart                        0\n",
                            "YearEnd                          0\n",
                            "LocationAbbr                     0\n",
                            "LocationDesc                     0\n",
                            "Datasource                       0\n",
                            "Class                            0\n",
                            "Topic                            0\n",
                            "Question                         0\n",
                            "Data_Value_Unit                  0\n",
                            "DataValueTypeID                  0\n",
                            "Data_Value_Type                  0\n",
                            "Data_Value                    6095\n",
                            "Data_Value_Alt                6095\n",
                            "Data_Value_Footnote_Symbol    8782\n",
                            "Data_Value_Footnote           8782\n",
                            "Low_Confidence_Limit          6104\n",
                            "High_Confidence_Limit         6104\n",
                            "StratificationCategory1          0\n",
                            "Stratification1                  0\n",
                            "StratificationCategory2       2076\n",
                            "Stratification2               2076\n",
                            "Geolocation                   2040\n",
                            "ClassID                          0\n",
                            "TopicID                          0\n",
                            "QuestionID                       0\n",
                            "LocationID                       0\n",
                            "StratificationCategoryID1        0\n",
                            "StratificationID1                0\n",
                            "StratificationCategoryID2        0\n",
                            "StratificationID2                0\n",
                            "dtype: int64"
                        ]
                    },
                    "execution_count": 3,
                    "metadata": {},
                    "output_type": "execute_result"
                }
            ],
            "source": [
                "# What are the column names?\n",
                "# Whats the context of those column names in the dataset?\n",
                "# Is each row of my dataset an individual data point, or is it representing an aggregation (average, sum, etc.) of a dataset.\n",
                "\n",
                "# In my case, the health data is reported as an aggregation of responses for a given area over time.\n",
                "\n",
                "\n",
                "# Things to find out\n",
                "## Unique locations\n",
                "## Unique Age groups, Race/Ethnicity, Gender reported on for these two questions\n",
                "## Number of 'No Data Available' in the dataset for these questions\n",
                "## Locations that have data\n",
                "## <Important> Need to research what these High and Low confidence values mean\n",
                "## <important> find out exactly what this means: \n",
                "#### \"Sample size of denominator and/or age group for age-standardization is less than 50 or relative standard error is more than 30%\"\n",
                "## Data Value Types present in dataset\n",
                "## See how filled out dataset is for both questions. Does one have more data than the other? That'd be an important thing to note in final \n",
                "### Tableau report if so. \n",
                "## What is this Geolocation field? Does it operate like I expect (latitude, longitude)?\n",
                "## Are there regions mixed in with specific states in the data?\n"
            ]
        },
        {
            "attachments": {},
            "cell_type": "markdown",
            "metadata": {
                "azdata_cell_guid": "d45060f3-97bc-484a-9ef4-66145bbe9427"
            },
            "source": [
                "## Visualize\n",
                "\n",
                "Create any visualizations for your EDA here. Make note in the form of code comments of what your thought process is for your visualizations."
            ]
        },
        {
            "cell_type": "code",
            "execution_count": 19,
            "metadata": {
                "azdata_cell_guid": "f4565b03-759a-47a8-b58f-01b32a0b4b67"
            },
            "outputs": [],
            "source": []
        },
        {
            "cell_type": "code",
            "execution_count": 19,
            "metadata": {
                "azdata_cell_guid": "cd64bab1-db4c-4295-820d-c6464b653a3e"
            },
            "outputs": [],
            "source": []
        },
        {
            "cell_type": "markdown",
            "metadata": {
                "azdata_cell_guid": "d4931c0c-2c09-4ee1-95d4-73dd08c2f0a6"
            },
            "source": [
                "## Summarize Your Results\n",
                "\n",
                "With your EDA complete, answer the following questions.\n",
                "\n",
                "1. Was there anything surprising about your dataset? \n",
                "2. Do you have any concerns about your dataset? \n",
                "3. Is there anything you want to make note of for the next phase of your analysis, which is cleaning data? "
            ]
        }
    ],
    "metadata": {
        "kernelspec": {
            "display_name": "Python 3",
            "language": "python",
            "name": "python3"
        },
        "language_info": {
            "codemirror_mode": {
                "name": "ipython",
                "version": 3
            },
            "file_extension": ".py",
            "mimetype": "text/x-python",
            "name": "python",
            "nbconvert_exporter": "python",
            "pygments_lexer": "ipython3",
            "version": "3.9.6"
        }
    },
    "nbformat": 4,
    "nbformat_minor": 2
}
