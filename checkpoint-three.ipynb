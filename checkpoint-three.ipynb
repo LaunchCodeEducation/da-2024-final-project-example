{
    "cells": [
        {
            "attachments": {},
            "cell_type": "markdown",
            "metadata": {
                "azdata_cell_guid": "26037d32-2047-4157-81ef-595916bd66a0"
            },
            "source": [
                "# Checkpoint Three: Cleaning Data\n",
                "\n",
                "Now you are ready to clean your data. Before starting coding, provide the link to your dataset below.\n",
                "\n",
                "My dataset: https://catalog.data.gov/dataset/alzheimers-disease-and-healthy-aging-data\n",
                "\n",
                "Import the necessary libraries and create your dataframe(s)."
            ]
        },
        {
            "cell_type": "code",
            "execution_count": 12,
            "metadata": {
                "azdata_cell_guid": "e8adef8e-d0f2-4640-a179-5997f11e82ca"
            },
            "outputs": [
                {
                    "data": {
                        "text/plain": [
                            "Index(['RowId', 'YearStart', 'YearEnd', 'LocationAbbr', 'LocationDesc',\n",
                            "       'Datasource', 'Class', 'Topic', 'Question', 'Data_Value_Unit',\n",
                            "       'DataValueTypeID', 'Data_Value_Type', 'Data_Value', 'Data_Value_Alt',\n",
                            "       'Data_Value_Footnote_Symbol', 'Data_Value_Footnote',\n",
                            "       'Low_Confidence_Limit', 'High_Confidence_Limit',\n",
                            "       'StratificationCategory1', 'Stratification1', 'StratificationCategory2',\n",
                            "       'Stratification2', 'Geolocation', 'ClassID', 'TopicID', 'QuestionID',\n",
                            "       'LocationID', 'StratificationCategoryID1', 'StratificationID1',\n",
                            "       'StratificationCategoryID2', 'StratificationID2'],\n",
                            "      dtype='object')"
                        ]
                    },
                    "execution_count": 12,
                    "metadata": {},
                    "output_type": "execute_result"
                }
            ],
            "source": [
                "# Pre-filtered the overall excel file down to the two questions I want to analyze from the survey data.\n",
                "# So the file I'm importing is already a filtered dataset from the main dataset.\n",
                "import pandas as pd\n",
                "import matplotlib.pyplot as plt\n",
                "import seaborn as sns\n",
                "import numpy as np\n",
                "\n",
                "df = pd.read_csv(\"./filtered-dataset.csv\")\n",
                "\n",
                "df.columns\n",
                "\n",
                "# Columns\n",
                "list = ['RowId', 'YearStart', 'YearEnd', 'LocationAbbr', 'LocationDesc',\n",
                "       'Datasource', 'Class', 'Topic', 'Question', 'Data_Value_Unit',\n",
                "       'DataValueTypeID', 'Data_Value_Type', 'Data_Value', 'Data_Value_Alt',\n",
                "       'Data_Value_Footnote_Symbol', 'Data_Value_Footnote',\n",
                "       'Low_Confidence_Limit', 'High_Confidence_Limit',\n",
                "       'StratificationCategory1', 'Stratification1', 'StratificationCategory2',\n",
                "       'Stratification2', 'Geolocation', 'ClassID', 'TopicID', 'QuestionID',\n",
                "       'LocationID', 'StratificationCategoryID1', 'StratificationID1',\n",
                "       'StratificationCategoryID2', 'StratificationID2']"
            ]
        },
        {
            "cell_type": "code",
            "execution_count": 22,
            "metadata": {},
            "outputs": [],
            "source": [
                "column_dict = {\n",
                "\t\"id\": 'RowId',\n",
                "\t\"y_start\": \"YearStart\",\n",
                "\t\"y_end\": \"YearEnd\",\n",
                "\t\"location_abbrev\": \"LocationAbbr\",\n",
                "\t\"location_desc\": \"LocationDesc\",\n",
                "\t\"q_id\": \"QuestionID\",\n",
                "\t\"data_value\": \"Data_Value\",\n",
                "\t\"df_footnote\": \"Data_Value_Footnote\",\n",
                "\t\"low_conf_limit\": \"Low_Confidence_Limit\",\n",
                "\t\"high_conf_limit\": \"High_Confidence_Limit\",\n",
                "\t\"strat_cat_1\": \"StratificationCategory1\",\n",
                "\t\"strat_1_value\": \"Stratification1\",\n",
                "\t\"strat_cat_2\": \"StratificationCategory2\",\n",
                "\t\"strat_2_value\": \"Stratification2\",\n",
                "\t\"geolocation\": \"Geolocation\",\n",
                "\t\"location_id\": \"LocationID\"\n",
                "\t}\n",
                "\n",
                "# We were able to reduce our .csv file size by half by creating the below dictionary\n",
                "## Allowed us to remove 4 columns that contained duplicate information in the dataset\n",
                "## but still be able to tie that information to a question using the QuestionID field\n",
                "questionID_dict = {\n",
                "\t\"Q21\": {\n",
                "\t\t\"question\": \"Percentage of older adults who reported binge drinking within the past 30 days\",\n",
                "\t\t\"topic\": \"Binge drinking within past 30 days\",\n",
                "\t\t\"class\": \"Smoking and Alcohol Use\",\n",
                "\t\t\"dv_type\": \"Percentage\"\n",
                "\t\t},\n",
                "\t\"Q37\": {\n",
                "\t\t\"question\": \"Percentage of older adults currently not providing care who expect to provide care for someone with health problems in the next two years\",\n",
                "\t\t\"topic\": \"Expect to provide care for someone in the next two years\",\n",
                "\t\t\"class\": \"Caregiving\",\n",
                "\t\t\"dv_type\": \"Percentage\"\n",
                "\t}\n",
                "}"
            ]
        },
        {
            "cell_type": "code",
            "execution_count": 26,
            "metadata": {},
            "outputs": [],
            "source": [
                "# Here we'll remove unnecessary columns from the dataset\n",
                "\n",
                "filtered_df = df[df.columns[df.columns.isin(column_dict.values())]]\n",
                "\n",
                "filtered_df.to_csv(\"./cleaned_data.csv\", index=False)"
            ]
        },
        {
            "cell_type": "markdown",
            "metadata": {
                "azdata_cell_guid": "e172475a-c4ee-414a-8367-9965355dbba6"
            },
            "source": [
                "## Missing Data\n",
                "\n",
                "Test your dataset for missing data and handle it as needed. Make notes in the form of code comments as to your thought process."
            ]
        },
        {
            "cell_type": "code",
            "execution_count": 16,
            "metadata": {
                "azdata_cell_guid": "e1dc66ef-e471-4c27-92e7-ee878c106eba"
            },
            "outputs": [
                {
                    "name": "stdout",
                    "output_type": "stream",
                    "text": [
                        "6640 3552\n"
                    ]
                }
            ],
            "source": [
                "## See how filled out dataset is for both questions. Does one have more data than the other? That'd be an important thing to note in final \n",
                "### Tableau report if so. \n",
                "## What are the number of complete responses for each question? Can I compare them, or is one question much more answered than the other?\n",
                "\n",
                "binge_drink_q = [\"Percentage of older adults who reported binge drinking within the past 30 days\", \"Q21\"]\n",
                "expected_caretaker_1 = [\"Percentage of older adults currently not providing care who expect to provide care for someone with health problems in the next two years\", \"Q37\"]\n",
                "\n",
                "row_val_1 = \"No Data Available\"\n",
                "row_val_2 = \"Sample size of denominator and/or age group for age-standardization is less than 50 or relative standard error is more than 30%\"\n",
                "\n",
                "exclude = [row_val_1, row_val_2]\n",
                "\n",
                "\n",
                "binge_q_filtered_df = df[df[column_dict['q_id']] == binge_drink_q[1]]\n",
                "expected_caretaker_q_filtered_df = df[df[column_dict['q_id']] == expected_caretaker_1[1]]\n",
                "\n",
                "\n",
                "binge_q_rows_with_data = binge_q_filtered_df[~binge_q_filtered_df[column_dict['df_footnote']].isin(exclude)]\n",
                "binge_q_count = binge_q_rows_with_data[column_dict['id']].count()\n",
                "\n",
                "expected_caretaker_q_rows_with_data = expected_caretaker_q_filtered_df[~expected_caretaker_q_filtered_df[column_dict['df_footnote']].isin(exclude)]\n",
                "expect_care_q_count = expected_caretaker_q_rows_with_data[column_dict['id']].count()\n",
                "\n",
                "\n",
                "print(binge_q_count, expect_care_q_count)\n",
                "\n",
                "\n",
                "# Binge drink questions has almost twice the number of rows with data as expected caretaker question\n",
                "## I'll need to include a note about this in final Tableau report so I don't misrepresent possible relationships\n",
                "## between the response data of these two questions\n"
            ]
        },
        {
            "cell_type": "code",
            "execution_count": null,
            "metadata": {},
            "outputs": [],
            "source": [
                "# We're going to keep this data in for non-responses or bad sample sizes, \n",
                "# because we also want to analyze which groups WEREN'T included in our analysis"
            ]
        },
        {
            "cell_type": "markdown",
            "metadata": {
                "azdata_cell_guid": "1233f543-e9a0-4f78-96f5-d7536554102e"
            },
            "source": [
                "## Irregular Data\n",
                "\n",
                "Detect outliers in your dataset and handle them as needed. Use code comments to make notes about your thought process."
            ]
        },
        {
            "cell_type": "code",
            "execution_count": null,
            "metadata": {
                "azdata_cell_guid": "efed50ae-16f0-471d-98e2-632553a74c12"
            },
            "outputs": [],
            "source": [
                "# Data operates off of reporting a mean value for survey responses, and also presents the \n",
                "# Low and High confidence limit for that grouping of responses. \n",
                "# Because of this, I'm not going to exclude any rows based on Data Value"
            ]
        },
        {
            "cell_type": "markdown",
            "metadata": {
                "azdata_cell_guid": "6f5b8ee0-bab3-44bc-958a-67d1e4c0407f"
            },
            "source": [
                "## Unnecessary Data\n",
                "\n",
                "Look for the different types of unnecessary data in your dataset and address it as needed. Make sure to use code comments to illustrate your thought process."
            ]
        },
        {
            "cell_type": "code",
            "execution_count": null,
            "metadata": {
                "azdata_cell_guid": "e788a239-2fbf-41de-9bd3-19e52e3b187c"
            },
            "outputs": [],
            "source": [
                "# Removed unnecessary columns above"
            ]
        },
        {
            "cell_type": "markdown",
            "metadata": {
                "azdata_cell_guid": "53e0cf94-c68a-4fa0-9849-9505a66bcce6"
            },
            "source": [
                "## Inconsistent Data\n",
                "\n",
                "Check for inconsistent data and address any that arises. As always, use code comments to illustrate your thought process."
            ]
        },
        {
            "cell_type": "code",
            "execution_count": null,
            "metadata": {
                "azdata_cell_guid": "e9de6624-812a-43f8-8e20-93b4a49b091f"
            },
            "outputs": [],
            "source": [
                "# We'll be reporting on which groups were left out of the data, so not filtering them out"
            ]
        },
        {
            "cell_type": "markdown",
            "metadata": {
                "azdata_cell_guid": "dedc0bfe-17d0-40b2-914f-2ddb54f9ce0d"
            },
            "source": [
                "## Summarize Your Results\n",
                "\n",
                "Make note of your answers to the following questions.\n",
                "\n",
                "1. Did you find all four types of dirty data in your dataset?\n",
                "\tYes I did. Explanations for keeping it or not keeping it in cleaned dataset are above.\n",
                "\n",
                "2. Did the process of cleaning your data give you new insights into your dataset?\n",
                "\tYes, I realized we need to report on groups that DIDN'T have response data as well as those that did\n",
                "\n",
                "3. Is there anything you would like to make note of when it comes to manipulating the data and making visualizations?\n",
                "\tFind a way to use the question_dict structure in Tableau to pull those field values in. I can use a calulcated field to do this."
            ]
        }
    ],
    "metadata": {
        "kernelspec": {
            "display_name": "Python 3",
            "language": "python",
            "name": "python3"
        },
        "language_info": {
            "codemirror_mode": {
                "name": "ipython",
                "version": 3
            },
            "file_extension": ".py",
            "mimetype": "text/x-python",
            "name": "python",
            "nbconvert_exporter": "python",
            "pygments_lexer": "ipython3",
            "version": "3.9.6"
        }
    },
    "nbformat": 4,
    "nbformat_minor": 2
}
